{
 "cells": [
  {
   "cell_type": "code",
   "execution_count": null,
   "id": "c3ae5b26",
   "metadata": {
    "vscode": {
     "languageId": "plaintext"
    }
   },
   "outputs": [],
   "source": [
    "print(\"hello wolrd)"
   ]
  },
  {
   "cell_type": "markdown",
   "id": "43bc7bae",
   "metadata": {},
   "source": [
    "print(\"hello wolrd)"
   ]
  }
 ],
 "metadata": {
  "language_info": {
   "name": "python"
  }
 },
 "nbformat": 4,
 "nbformat_minor": 5
}
